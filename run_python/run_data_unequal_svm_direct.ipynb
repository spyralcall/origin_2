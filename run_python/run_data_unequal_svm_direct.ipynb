{
 "cells": [
  {
   "cell_type": "code",
   "execution_count": null,
   "metadata": {},
   "outputs": [],
   "source": [
    "from sklearn.utils import resample\n",
    "from sklearn.svm import SVC\n",
    "from sklearn.preprocessing import StandardScaler\n",
    "from sklearn.model_selection import cross_val_score\n",
    "from sklearn.pipeline import make_pipeline\n",
    "from sklearn.decomposition import PCA\n",
    "from sklearn.model_selection import train_test_split\n",
    "import os\n",
    "import numpy as np\n",
    "import pandas as pd\n",
    "\n",
    "# テキストファイルをnumpy配列に読み込み\n",
    "all_data = np.loadtxt(\"claim_toiawase_data_python.txt\")\n",
    "#numpy配列をDataFrame型に変換(でーたを見やすくするため)\n",
    "all_data_pd = pd.DataFrame(all_data)\n",
    "#DataFrame型の列名を設定\n",
    "all_data_pd.columns = [\"seq\", \"Imp\", \"Imp_val\", \"m_sum_neg\", \"c_neg\", \"m_sum_all\", \"m_sum_nzr\", \"Mag\", \"c_nzr\", \"c_all\", \"m_max\", \"s_min\", \"m_sdv_neg\", \n",
    "                   \"s_sdv_neg\", \"m_avg_neg\", \"s_avg_neg\", \"s_sdv_nzr\", \"m_sdv_all\", \"s_sdv_all\", \"s_avg_nzr\", \"m_avg_nzr\", \"s_avg_all\", \"Sc\",\n",
    "                   \"m_avg_all\", \"m_sum_pos\", \"c_pos\", \"m_min\", \"s_max\", \"m_sdv_pos\", \"s_sdv_pos\", \"m_avg_pos\", \"s_avg_pos\", \"m_sdv_nzr\"]\n",
    "print(all_data_pd)   #ImpとImp_valは同じ\n",
    "\n",
    "# 特徴量の部分のみall_Xに読み込み\n",
    "all_X = all_data[:9813,3:33]\n",
    "#ラベル部分をall_yに読み込み\n",
    "all_y = all_data[:9813, 2]\n",
    "print(all_X)\n",
    "print(all_y)\n",
    "# print(type(all_X))"
   ]
  },
  {
   "cell_type": "code",
   "execution_count": null,
   "metadata": {},
   "outputs": [],
   "source": [
    "from sklearn.model_selection import cross_validate\n",
    "from sklearn.model_selection import cross_val_score\n",
    "from sklearn.model_selection import StratifiedKFold\n",
    "\n",
    "scoring = [\"f1\", \"accuracy\", \"precision\", \"recall\"]\n",
    "for c in [100000.0]:\n",
    "    for g in [10.0, 100.0, 1000.0, 10000.0, 100000.0]:\n",
    "        print(\"C:%s      gamma:%s\" %(c,g))\n",
    "        pipe = make_pipeline(StandardScaler(), SVC(C=c, gamma=g, kernel=\"rbf\", random_state=1))\n",
    "        kf = StratifiedKFold(n_splits=10, shuffle=True, random_state=2)\n",
    "        scores = cross_validate(pipe, all_X, all_y, scoring=scoring, cv=kf)\n",
    "        for key,value in scores.items():\n",
    "            print(\"{}:{:.4f}+/-{:.4f}\".format(key, value.mean(), value.std()))\n",
    "        print(\"\\n\")"
   ]
  }
 ],
 "metadata": {
  "kernelspec": {
   "display_name": "Python 3",
   "language": "python",
   "name": "python3"
  },
  "language_info": {
   "codemirror_mode": {
    "name": "ipython",
    "version": 3
   },
   "file_extension": ".py",
   "mimetype": "text/x-python",
   "name": "python",
   "nbconvert_exporter": "python",
   "pygments_lexer": "ipython3",
   "version": "3.6.4"
  }
 },
 "nbformat": 4,
 "nbformat_minor": 2
}
